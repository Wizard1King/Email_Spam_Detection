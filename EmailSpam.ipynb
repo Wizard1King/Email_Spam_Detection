{
  "nbformat": 4,
  "nbformat_minor": 0,
  "metadata": {
    "colab": {
      "provenance": []
    },
    "kernelspec": {
      "name": "python3",
      "display_name": "Python 3"
    },
    "language_info": {
      "name": "python"
    }
  },
  "cells": [
    {
      "cell_type": "code",
      "execution_count": 3,
      "metadata": {
        "id": "26oa4G3z58xK"
      },
      "outputs": [],
      "source": [
        "# Import libraries\n",
        "import pandas as pd\n",
        "import matplotlib.pyplot as plt\n",
        "import seaborn as sns\n",
        "\n",
        "from sklearn.model_selection import train_test_split\n",
        "from sklearn.feature_extraction.text import TfidfVectorizer\n",
        "from sklearn.metrics import accuracy_score, confusion_matrix, classification_report\n",
        "from sklearn.linear_model import LogisticRegression\n",
        "from sklearn.naive_bayes import MultinomialNB\n",
        "from sklearn.ensemble import RandomForestClassifier"
      ]
    },
    {
      "cell_type": "code",
      "source": [
        "df = pd.read_csv(\"spam_ham_dataset.csv\")"
      ],
      "metadata": {
        "id": "jrYdqPX_7HSA"
      },
      "execution_count": 5,
      "outputs": []
    },
    {
      "cell_type": "code",
      "source": [
        "print(\"Columns in dataset:\", df.columns)\n",
        "print(df.head())\n",
        "\n"
      ],
      "metadata": {
        "colab": {
          "base_uri": "https://localhost:8080/"
        },
        "id": "GI1dtkr66l8Y",
        "outputId": "6ca5df6e-deb6-46f7-c54d-1ed523d6bcb0"
      },
      "execution_count": 6,
      "outputs": [
        {
          "output_type": "stream",
          "name": "stdout",
          "text": [
            "Columns in dataset: Index(['Unnamed: 0', 'label', 'text', 'label_num'], dtype='object')\n",
            "   Unnamed: 0 label                                               text  \\\n",
            "0         605   ham  Subject: enron methanol ; meter # : 988291\\r\\n...   \n",
            "1        2349   ham  Subject: hpl nom for january 9 , 2001\\r\\n( see...   \n",
            "2        3624   ham  Subject: neon retreat\\r\\nho ho ho , we ' re ar...   \n",
            "3        4685  spam  Subject: photoshop , windows , office . cheap ...   \n",
            "4        2030   ham  Subject: re : indian springs\\r\\nthis deal is t...   \n",
            "\n",
            "   label_num  \n",
            "0          0  \n",
            "1          0  \n",
            "2          0  \n",
            "3          1  \n",
            "4          0  \n"
          ]
        }
      ]
    },
    {
      "cell_type": "code",
      "source": [
        "df = df.rename(columns={\"text\": \"message\", \"label\": \"label\"})"
      ],
      "metadata": {
        "id": "pUyyEw0_6sw-"
      },
      "execution_count": 7,
      "outputs": []
    },
    {
      "cell_type": "code",
      "source": [
        "# Convert labels: spam=1, ham=0\n",
        "df[\"label\"] = df[\"label\"].map({\"ham\": 0, \"spam\": 1})"
      ],
      "metadata": {
        "id": "k-m9AVdm60Sv"
      },
      "execution_count": 8,
      "outputs": []
    },
    {
      "cell_type": "code",
      "source": [
        "print(\"\\nDataset info:\")\n",
        "print(df[\"label\"].value_counts())\n"
      ],
      "metadata": {
        "colab": {
          "base_uri": "https://localhost:8080/"
        },
        "id": "RqUdwI2I66kR",
        "outputId": "1e4b5413-59c0-42f2-e39d-a6d8b2521aca"
      },
      "execution_count": 9,
      "outputs": [
        {
          "output_type": "stream",
          "name": "stdout",
          "text": [
            "\n",
            "Dataset info:\n",
            "label\n",
            "0    3672\n",
            "1    1499\n",
            "Name: count, dtype: int64\n"
          ]
        }
      ]
    },
    {
      "cell_type": "code",
      "source": [
        "# ---------------- Step 3: Text Vectorization ----------------\n",
        "vectorizer = TfidfVectorizer(stop_words=\"english\", max_features=5000)\n",
        "X_train_vec = vectorizer.fit_transform(X_train)\n",
        "X_test_vec = vectorizer.transform(X_test)\n"
      ],
      "metadata": {
        "id": "BzAZuBR06-_f"
      },
      "execution_count": null,
      "outputs": []
    },
    {
      "cell_type": "code",
      "source": [
        "X = df[\"message\"]\n",
        "y = df[\"label\"]\n",
        "\n",
        "X_train, X_test, y_train, y_test = train_test_split(\n",
        "    X, y, test_size=0.2, random_state=42, stratify=y\n",
        ")"
      ],
      "metadata": {
        "id": "EPsO7eN16_8r"
      },
      "execution_count": 10,
      "outputs": []
    },
    {
      "cell_type": "code",
      "source": [
        "vectorizer = TfidfVectorizer(stop_words=\"english\", max_features=5000)\n",
        "X_train_vec = vectorizer.fit_transform(X_train)\n",
        "X_test_vec = vectorizer.transform(X_test)"
      ],
      "metadata": {
        "id": "XTVJgNPp7ITD"
      },
      "execution_count": 11,
      "outputs": []
    },
    {
      "cell_type": "code",
      "source": [
        "models = {\n",
        "    \"Logistic Regression\": LogisticRegression(max_iter=1000),\n",
        "    \"Naive Bayes\": MultinomialNB(),\n",
        "    \"Random Forest\": RandomForestClassifier(n_estimators=200, random_state=42)\n",
        "}\n"
      ],
      "metadata": {
        "id": "qBdoLjJc91tP"
      },
      "execution_count": 12,
      "outputs": []
    },
    {
      "cell_type": "code",
      "source": [
        "for name, model in models.items():\n",
        "    print(f\"\\n🔹 Training {name}...\")\n",
        "    model.fit(X_train_vec, y_train)\n",
        "    y_pred = model.predict(X_test_vec)\n",
        "\n",
        "    acc = accuracy_score(y_test, y_pred)\n",
        "    cm = confusion_matrix(y_test, y_pred)\n",
        "\n",
        "    print(f\"✅ Accuracy of {name}: {acc:.4f}\")\n",
        "    print(\"Classification Report:\\n\", classification_report(y_test, y_pred))\n",
        ""
      ],
      "metadata": {
        "colab": {
          "base_uri": "https://localhost:8080/"
        },
        "id": "dMqVHL6W958-",
        "outputId": "2eb53329-d9d6-415a-affb-2f2861cadab3"
      },
      "execution_count": 13,
      "outputs": [
        {
          "output_type": "stream",
          "name": "stdout",
          "text": [
            "\n",
            "🔹 Training Logistic Regression...\n",
            "✅ Accuracy of Logistic Regression: 0.9865\n",
            "Classification Report:\n",
            "               precision    recall  f1-score   support\n",
            "\n",
            "           0       0.99      0.99      0.99       735\n",
            "           1       0.97      0.99      0.98       300\n",
            "\n",
            "    accuracy                           0.99      1035\n",
            "   macro avg       0.98      0.99      0.98      1035\n",
            "weighted avg       0.99      0.99      0.99      1035\n",
            "\n",
            "\n",
            "🔹 Training Naive Bayes...\n",
            "✅ Accuracy of Naive Bayes: 0.9527\n",
            "Classification Report:\n",
            "               precision    recall  f1-score   support\n",
            "\n",
            "           0       0.97      0.96      0.97       735\n",
            "           1       0.90      0.94      0.92       300\n",
            "\n",
            "    accuracy                           0.95      1035\n",
            "   macro avg       0.94      0.95      0.94      1035\n",
            "weighted avg       0.95      0.95      0.95      1035\n",
            "\n",
            "\n",
            "🔹 Training Random Forest...\n",
            "✅ Accuracy of Random Forest: 0.9797\n",
            "Classification Report:\n",
            "               precision    recall  f1-score   support\n",
            "\n",
            "           0       1.00      0.97      0.99       735\n",
            "           1       0.94      0.99      0.97       300\n",
            "\n",
            "    accuracy                           0.98      1035\n",
            "   macro avg       0.97      0.98      0.98      1035\n",
            "weighted avg       0.98      0.98      0.98      1035\n",
            "\n"
          ]
        }
      ]
    },
    {
      "cell_type": "code",
      "source": [
        "fig, axes = plt.subplots(1, 3, figsize=(15, 4))\n",
        "\n",
        "\n",
        "for ax, (name, model) in zip(axes, models.items()):\n",
        "    print(f\"\\n🔹 Training {name}...\")\n",
        "    model.fit(X_train_vec, y_train)\n",
        "    y_pred = model.predict(X_test_vec)\n",
        "\n",
        "    acc = accuracy_score(y_test, y_pred)\n",
        "    cm = confusion_matrix(y_test, y_pred)\n",
        "\n",
        "    print(f\"✅ Accuracy of {name}: {acc:.4f}\")\n",
        "    print(\"Classification Report:\\n\", classification_report(y_test, y_pred))\n",
        "\n",
        "    # Plot confusion matrix in subplots\n",
        "    sns.heatmap(cm, annot=True, fmt=\"d\", cmap=\"Blues\", xticklabels=[\"Ham\",\"Spam\"], yticklabels=[\"Ham\",\"Spam\"], ax=ax)\n",
        "    ax.set_title(f\"{name}\")\n",
        "    ax.set_xlabel(\"Predicted\")\n",
        "    ax.set_ylabel(\"Actual\")"
      ],
      "metadata": {
        "colab": {
          "base_uri": "https://localhost:8080/",
          "height": 1000
        },
        "id": "kfp4g-R_-7_w",
        "outputId": "b7e3f66a-e841-4547-e695-badb032ab69e"
      },
      "execution_count": 21,
      "outputs": [
        {
          "output_type": "stream",
          "name": "stdout",
          "text": [
            "\n",
            "🔹 Training Logistic Regression...\n",
            "✅ Accuracy of Logistic Regression: 0.9865\n",
            "Classification Report:\n",
            "               precision    recall  f1-score   support\n",
            "\n",
            "           0       0.99      0.99      0.99       735\n",
            "           1       0.97      0.99      0.98       300\n",
            "\n",
            "    accuracy                           0.99      1035\n",
            "   macro avg       0.98      0.99      0.98      1035\n",
            "weighted avg       0.99      0.99      0.99      1035\n",
            "\n",
            "\n",
            "🔹 Training Naive Bayes...\n",
            "✅ Accuracy of Naive Bayes: 0.9527\n",
            "Classification Report:\n",
            "               precision    recall  f1-score   support\n",
            "\n",
            "           0       0.97      0.96      0.97       735\n",
            "           1       0.90      0.94      0.92       300\n",
            "\n",
            "    accuracy                           0.95      1035\n",
            "   macro avg       0.94      0.95      0.94      1035\n",
            "weighted avg       0.95      0.95      0.95      1035\n",
            "\n",
            "\n",
            "🔹 Training Random Forest...\n",
            "✅ Accuracy of Random Forest: 0.9797\n",
            "Classification Report:\n",
            "               precision    recall  f1-score   support\n",
            "\n",
            "           0       1.00      0.97      0.99       735\n",
            "           1       0.94      0.99      0.97       300\n",
            "\n",
            "    accuracy                           0.98      1035\n",
            "   macro avg       0.97      0.98      0.98      1035\n",
            "weighted avg       0.98      0.98      0.98      1035\n",
            "\n"
          ]
        },
        {
          "output_type": "display_data",
          "data": {
            "text/plain": [
              "<Figure size 1500x400 with 6 Axes>"
            ],
            "image/png": "[encoded data removed]"
          },
          "metadata": {}
        }
      ]
    },
    {
      "cell_type": "code",
      "source": [
        "sample_messages = [\n",
        "        \"Congratulations! You've won a $1000 Walmart gift card. Click here to claim.\",\n",
        "        \"Hey, are we still on for dinner tonight?\",\n",
        "        \"URGENT! Your mobile number has been selected for a prize.\",\n",
        "        \"Let's finish the project by tomorrow morning.\"\n",
        "    ]"
      ],
      "metadata": {
        "id": "b_UKWqsW-a51"
      },
      "execution_count": 23,
      "outputs": []
    },
    {
      "cell_type": "code",
      "source": [
        "sample_vec = vectorizer.transform(sample_messages)\n",
        "sample_pred = model.predict(sample_vec)\n",
        "\n",
        "print(\"🔮 Sample Predictions with\", name)\n",
        "for msg, pred in zip(sample_messages, sample_pred):\n",
        "    print(f\"Message: {msg}\\nPrediction: {'Spam' if pred==1 else 'Ham'}\\n\")"
      ],
      "metadata": {
        "colab": {
          "base_uri": "https://localhost:8080/"
        },
        "id": "MSYHmfop-eMA",
        "outputId": "e05e0883-bcfd-43c2-cd9e-e3f268851ebc"
      },
      "execution_count": 24,
      "outputs": [
        {
          "output_type": "stream",
          "name": "stdout",
          "text": [
            "🔮 Sample Predictions with Random Forest\n",
            "Message: Congratulations! You've won a $1000 Walmart gift card. Click here to claim.\n",
            "Prediction: Spam\n",
            "\n",
            "Message: Hey, are we still on for dinner tonight?\n",
            "Prediction: Spam\n",
            "\n",
            "Message: URGENT! Your mobile number has been selected for a prize.\n",
            "Prediction: Spam\n",
            "\n",
            "Message: Let's finish the project by tomorrow morning.\n",
            "Prediction: Ham\n",
            "\n"
          ]
        }
      ]
    }
  ]
}